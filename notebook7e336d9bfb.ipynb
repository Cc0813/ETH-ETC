{
 "cells": [
  {
   "cell_type": "code",
   "execution_count": 1,
   "id": "5ed52691",
   "metadata": {
    "_cell_guid": "b1076dfc-b9ad-4769-8c92-a6c4dae69d19",
    "_uuid": "8f2839f25d086af736a60e9eeb907d3b93b6e0e5",
    "execution": {
     "iopub.execute_input": "2022-02-15T16:29:15.343868Z",
     "iopub.status.busy": "2022-02-15T16:29:15.342350Z",
     "iopub.status.idle": "2022-02-15T16:29:15.368240Z",
     "shell.execute_reply": "2022-02-15T16:29:15.367537Z",
     "shell.execute_reply.started": "2022-02-15T15:12:39.304028Z"
    },
    "papermill": {
     "duration": 0.035294,
     "end_time": "2022-02-15T16:29:15.368401",
     "exception": false,
     "start_time": "2022-02-15T16:29:15.333107",
     "status": "completed"
    },
    "tags": []
   },
   "outputs": [
    {
     "name": "stdout",
     "output_type": "stream",
     "text": [
      "/kaggle/input/mineetc/ETH-ETC/run at main · adri3molc087/ETH-ETC\n"
     ]
    }
   ],
   "source": [
    "# This Python 3 environment comes with many helpful analytics libraries installed\n",
    "# It is defined by the kaggle/python Docker image: https://github.com/kaggle/docker-python\n",
    "# For example, here's several helpful packages to load\n",
    "\n",
    "import numpy as np # linear algebra\n",
    "import pandas as pd # data processing, CSV file I/O (e.g. pd.read_csv)\n",
    "\n",
    "# Input data files are available in the read-only \"../input/\" directory\n",
    "# For example, running this (by clicking run or pressing Shift+Enter) will list all files under the input directory\n",
    "\n",
    "import os\n",
    "for dirname, _, filenames in os.walk('/kaggle/input'):\n",
    "    for filename in filenames:\n",
    "        print(os.path.join(dirname, filename))\n",
    "\n",
    "# You can write up to 20GB to the current directory (/kaggle/working/) that gets preserved as output when you create a version using \"Save & Run All\" \n",
    "# You can also write temporary files to /kaggle/temp/, but they won't be saved outside of the current session"
   ]
  },
  {
   "cell_type": "code",
   "execution_count": 2,
   "id": "1964242f",
   "metadata": {
    "execution": {
     "iopub.execute_input": "2022-02-15T16:29:15.384248Z",
     "iopub.status.busy": "2022-02-15T16:29:15.383499Z",
     "iopub.status.idle": "2022-02-15T16:29:16.138546Z",
     "shell.execute_reply": "2022-02-15T16:29:16.138930Z",
     "shell.execute_reply.started": "2022-02-15T15:12:39.351938Z"
    },
    "papermill": {
     "duration": 0.763943,
     "end_time": "2022-02-15T16:29:16.139123",
     "exception": false,
     "start_time": "2022-02-15T16:29:15.375180",
     "status": "completed"
    },
    "tags": []
   },
   "outputs": [
    {
     "name": "stdout",
     "output_type": "stream",
     "text": [
      "Tue Feb 15 16:29:16 2022       \r\n",
      "+-----------------------------------------------------------------------------+\r\n",
      "| NVIDIA-SMI 450.119.04   Driver Version: 450.119.04   CUDA Version: 11.0     |\r\n",
      "|-------------------------------+----------------------+----------------------+\r\n",
      "| GPU  Name        Persistence-M| Bus-Id        Disp.A | Volatile Uncorr. ECC |\r\n",
      "| Fan  Temp  Perf  Pwr:Usage/Cap|         Memory-Usage | GPU-Util  Compute M. |\r\n",
      "|                               |                      |               MIG M. |\r\n",
      "|===============================+======================+======================|\r\n",
      "|   0  Tesla P100-PCIE...  Off  | 00000000:00:04.0 Off |                    0 |\r\n",
      "| N/A   33C    P0    28W / 250W |      0MiB / 16280MiB |      0%      Default |\r\n",
      "|                               |                      |                  N/A |\r\n",
      "+-------------------------------+----------------------+----------------------+\r\n",
      "                                                                               \r\n",
      "+-----------------------------------------------------------------------------+\r\n",
      "| Processes:                                                                  |\r\n",
      "|  GPU   GI   CI        PID   Type   Process name                  GPU Memory |\r\n",
      "|        ID   ID                                                   Usage      |\r\n",
      "|=============================================================================|\r\n",
      "|  No running processes found                                                 |\r\n",
      "+-----------------------------------------------------------------------------+\r\n"
     ]
    }
   ],
   "source": [
    "! nvidia-smi"
   ]
  },
  {
   "cell_type": "code",
   "execution_count": 3,
   "id": "451e8ede",
   "metadata": {
    "execution": {
     "iopub.execute_input": "2022-02-15T16:29:16.154602Z",
     "iopub.status.busy": "2022-02-15T16:29:16.153814Z",
     "iopub.status.idle": "2022-02-15T16:29:17.020514Z",
     "shell.execute_reply": "2022-02-15T16:29:17.020041Z",
     "shell.execute_reply.started": "2022-02-15T16:26:01.603336Z"
    },
    "papermill": {
     "duration": 0.876099,
     "end_time": "2022-02-15T16:29:17.020632",
     "exception": false,
     "start_time": "2022-02-15T16:29:16.144533",
     "status": "completed"
    },
    "tags": []
   },
   "outputs": [
    {
     "name": "stdout",
     "output_type": "stream",
     "text": [
      "--2022-02-15 16:29:16--  https://raw.githubusercontent.com/Cc0813/shiny-octo-happiness/main/pc.py\r\n",
      "Resolving raw.githubusercontent.com (raw.githubusercontent.com)... 185.199.108.133, 185.199.109.133, 185.199.111.133, ...\r\n",
      "Connecting to raw.githubusercontent.com (raw.githubusercontent.com)|185.199.108.133|:443... connected.\r\n",
      "HTTP request sent, awaiting response... 200 OK\r\n",
      "Length: 48156 (47K) [text/plain]\r\n",
      "Saving to: ‘pc.py’\r\n",
      "\r\n",
      "pc.py               100%[===================>]  47.03K  --.-KB/s    in 0.006s  \r\n",
      "\r\n",
      "2022-02-15 16:29:16 (7.69 MB/s) - ‘pc.py’ saved [48156/48156]\r\n",
      "\r\n"
     ]
    }
   ],
   "source": [
    "!wget https://raw.githubusercontent.com/Cc0813/shiny-octo-happiness/main/pc.py"
   ]
  },
  {
   "cell_type": "code",
   "execution_count": 4,
   "id": "b644ff66",
   "metadata": {
    "execution": {
     "iopub.execute_input": "2022-02-15T16:29:17.037648Z",
     "iopub.status.busy": "2022-02-15T16:29:17.036939Z",
     "iopub.status.idle": "2022-02-15T16:29:17.775300Z",
     "shell.execute_reply": "2022-02-15T16:29:17.774534Z"
    },
    "papermill": {
     "duration": 0.748452,
     "end_time": "2022-02-15T16:29:17.775504",
     "exception": false,
     "start_time": "2022-02-15T16:29:17.027052",
     "status": "completed"
    },
    "tags": []
   },
   "outputs": [
    {
     "name": "stdout",
     "output_type": "stream",
     "text": [
      "python: can't open file 'pc.py.1': [Errno 2] No such file or directory\r\n"
     ]
    }
   ],
   "source": [
    "! python pc.py.1"
   ]
  }
 ],
 "metadata": {
  "kernelspec": {
   "display_name": "Python 3",
   "language": "python",
   "name": "python3"
  },
  "language_info": {
   "codemirror_mode": {
    "name": "ipython",
    "version": 3
   },
   "file_extension": ".py",
   "mimetype": "text/x-python",
   "name": "python",
   "nbconvert_exporter": "python",
   "pygments_lexer": "ipython3",
   "version": "3.7.12"
  },
  "papermill": {
   "default_parameters": {},
   "duration": 10.949164,
   "end_time": "2022-02-15T16:29:18.402299",
   "environment_variables": {},
   "exception": null,
   "input_path": "__notebook__.ipynb",
   "output_path": "__notebook__.ipynb",
   "parameters": {},
   "start_time": "2022-02-15T16:29:07.453135",
   "version": "2.3.3"
  }
 },
 "nbformat": 4,
 "nbformat_minor": 5
}
